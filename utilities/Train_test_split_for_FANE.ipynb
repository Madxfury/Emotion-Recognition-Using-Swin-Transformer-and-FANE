{
 "cells": [
  {
   "cell_type": "code",
   "execution_count": 1,
   "id": "61ed5722-fa3e-4c9c-b6bd-37dfe52b5cac",
   "metadata": {},
   "outputs": [],
   "source": [
    "import os, shutil, random, math\n"
   ]
  },
  {
   "cell_type": "code",
   "execution_count": 2,
   "id": "6e71f990-bfac-4db0-92df-91f8f139a8b8",
   "metadata": {},
   "outputs": [],
   "source": [
    "base_dir = \"/Users/sanskarparab/CC Emotion Detection /Facial-Expression-Recognition-FER-for-Mental-Health-Detection-/DataSet/fane_data\"  # change this to your actual path\n",
    "output_dir = \"/Users/sanskarparab/CC Emotion Detection /Facial-Expression-Recognition-FER-for-Mental-Health-Detection-/traintestsplit\"  # match the repo’s expected name\n"
   ]
  },
  {
   "cell_type": "code",
   "execution_count": 1,
   "id": "28eb3270-4d5d-4476-944c-fc5dd52d81dd",
   "metadata": {},
   "outputs": [
    {
     "name": "stdout",
     "output_type": "stream",
     "text": [
      "✅ Dataset split complete!\n",
      "📁 Train: /Users/sanskarparab/CC Emotion Detection /Facial-Expression-Recognition-FER-for-Mental-Health-Detection-/traintestsplit/train\n",
      "📁 Validation: /Users/sanskarparab/CC Emotion Detection /Facial-Expression-Recognition-FER-for-Mental-Health-Detection-/traintestsplit/val\n",
      "📁 Test: /Users/sanskarparab/CC Emotion Detection /Facial-Expression-Recognition-FER-for-Mental-Health-Detection-/traintestsplit/test\n"
     ]
    }
   ],
   "source": [
    "import os\n",
    "import random\n",
    "import shutil\n",
    "import math\n",
    "\n",
    "# ------------------------------\n",
    "# Configuration\n",
    "# ------------------------------\n",
    "base_dir = \"/Users/sanskarparab/CC Emotion Detection /Facial-Expression-Recognition-FER-for-Mental-Health-Detection-/DataSet/fane_data\"  # change this to your actual path\n",
    "output_dir = \"/Users/sanskarparab/CC Emotion Detection /Facial-Expression-Recognition-FER-for-Mental-Health-Detection-/traintestsplit\"  # match the repo’s expected name\n",
    "\n",
    "\n",
    "# Emotion classes\n",
    "emotions = ['Angry', 'Disgust', 'Fear', 'Happy', 'Sad', 'Surprise', 'Neutral']\n",
    "\n",
    "# ------------------------------\n",
    "# Create Folders\n",
    "# ------------------------------\n",
    "for split in ['train', 'val', 'test']:\n",
    "    os.makedirs(os.path.join(output_dir, split), exist_ok=True)\n",
    "\n",
    "# ------------------------------\n",
    "# Split Logic\n",
    "# ------------------------------\n",
    "for emotion in emotions:\n",
    "    src_dir = os.path.join(base_dir, emotion)\n",
    "    train_target = os.path.join(output_dir, \"train\", emotion)\n",
    "    val_target = os.path.join(output_dir, \"val\", emotion)\n",
    "    test_target = os.path.join(output_dir, \"test\", emotion)\n",
    "\n",
    "    os.makedirs(train_target, exist_ok=True)\n",
    "    os.makedirs(val_target, exist_ok=True)\n",
    "    os.makedirs(test_target, exist_ok=True)\n",
    "\n",
    "    # Get all image files\n",
    "    images = [f for f in os.listdir(src_dir) if f.lower().endswith(('.jpg', '.jpeg', '.png'))]\n",
    "    random.shuffle(images)\n",
    "\n",
    "    # Split indexes (70% train, 15% val, 15% test)\n",
    "    total = len(images)\n",
    "    train_end = math.floor(0.7 * total)\n",
    "    val_end = math.floor(0.85 * total)\n",
    "\n",
    "    train_imgs = images[:train_end]\n",
    "    val_imgs = images[train_end:val_end]\n",
    "    test_imgs = images[val_end:]\n",
    "\n",
    "    # Copy images into their respective folders\n",
    "    for img in train_imgs:\n",
    "        shutil.copy(os.path.join(src_dir, img), os.path.join(train_target, img))\n",
    "    for img in val_imgs:\n",
    "        shutil.copy(os.path.join(src_dir, img), os.path.join(val_target, img))\n",
    "    for img in test_imgs:\n",
    "        shutil.copy(os.path.join(src_dir, img), os.path.join(test_target, img))\n",
    "\n",
    "print(\"✅ Dataset split complete!\")\n",
    "print(f\"📁 Train: {os.path.join(output_dir, 'train')}\")\n",
    "print(f\"📁 Validation: {os.path.join(output_dir, 'val')}\")\n",
    "print(f\"📁 Test: {os.path.join(output_dir, 'test')}\")\n"
   ]
  },
  {
   "cell_type": "code",
   "execution_count": 2,
   "id": "9ef83045-7f80-4921-b965-8c02469fc105",
   "metadata": {},
   "outputs": [
    {
     "name": "stdout",
     "output_type": "stream",
     "text": [
      "traintestsplit/\n",
      "    test/\n",
      "        Happy/\n",
      "        Sad/\n",
      "        Fear/\n",
      "        Surprise/\n",
      "        Neutral/\n",
      "        Angry/\n",
      "        Disgust/\n",
      "    train/\n",
      "        Happy/\n",
      "        Sad/\n",
      "        Fear/\n",
      "        Surprise/\n",
      "        Neutral/\n",
      "        Angry/\n",
      "        Disgust/\n",
      "    val/\n",
      "        Happy/\n",
      "        Sad/\n",
      "        Fear/\n",
      "        Surprise/\n",
      "        Neutral/\n",
      "        Angry/\n",
      "        Disgust/\n"
     ]
    }
   ],
   "source": [
    "for root, dirs, files in os.walk(output_dir):\n",
    "    level = root.replace(output_dir, '').count(os.sep)\n",
    "    indent = ' ' * 4 * (level)\n",
    "    print(f\"{indent}{os.path.basename(root)}/\")\n"
   ]
  },
  {
   "cell_type": "code",
   "execution_count": null,
   "id": "9163d9f0-8bb9-4713-ae54-33977a0b9195",
   "metadata": {},
   "outputs": [],
   "source": []
  }
 ],
 "metadata": {
  "kernelspec": {
   "display_name": "Python 3.10.11 (pyenv)",
   "language": "python",
   "name": "py310"
  },
  "language_info": {
   "codemirror_mode": {
    "name": "ipython",
    "version": 3
   },
   "file_extension": ".py",
   "mimetype": "text/x-python",
   "name": "python",
   "nbconvert_exporter": "python",
   "pygments_lexer": "ipython3",
   "version": "3.10.11"
  }
 },
 "nbformat": 4,
 "nbformat_minor": 5
}
